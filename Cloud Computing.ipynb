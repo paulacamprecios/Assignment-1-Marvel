{
 "cells": [
  {
   "cell_type": "code",
   "execution_count": 2,
   "metadata": {},
   "outputs": [],
   "source": [
    "api_key= \"ea0518bbe4e05ba4b9685668b348a1d7\"\n",
    "\n",
    "api_private_key = \"6704343727a4d01b047aec1033b8478f540932c9\"\n",
    "\n",
    "url_base = \"http://gateway.marvel.com\"\n",
    "\n",
    "endpoint_lists = \"/v1/public/characters\"\n"
   ]
  },
  {
   "cell_type": "code",
   "execution_count": 3,
   "metadata": {},
   "outputs": [],
   "source": [
    "import requests"
   ]
  },
  {
   "cell_type": "code",
   "execution_count": 4,
   "metadata": {},
   "outputs": [],
   "source": [
    "# Provide a list of 30 Marvel characters\n",
    "\n",
    "url_list = url_base + endpoint_lists\n",
    "\n",
    "import time\n",
    "\n",
    "ts = 1000\n",
    "\n",
    "ts_str = str(int(ts))\n",
    "\n",
    "import hashlib\n",
    "\n",
    "hash1 = str(ts_str)+api_private_key+api_key\n",
    "\n",
    "hash2= hashlib.md5(hash1.encode())\n",
    "\n",
    "hash3= hash2.hexdigest()\n",
    "\n",
    "\n",
    "body = {'limit':30, 'ts':ts_str, 'apikey': api_key, 'hash':hash3}\n",
    "\n",
    "characters = requests.get(url=url_list, params= body).json()"
   ]
  },
  {
   "cell_type": "markdown",
   "metadata": {},
   "source": [
    "<b>1. Provide a list of 30 Marvel characters</b>"
   ]
  },
  {
   "cell_type": "code",
   "execution_count": 5,
   "metadata": {},
   "outputs": [],
   "source": [
    "list_characters=[]\n",
    "for i in characters['data']['results']:\n",
    "    for j in i:\n",
    "        if j == 'name':\n",
    "            list_characters.append(i[j])"
   ]
  },
  {
   "cell_type": "code",
   "execution_count": 6,
   "metadata": {},
   "outputs": [
    {
     "name": "stdout",
     "output_type": "stream",
     "text": [
      "['3-D Man', 'A-Bomb (HAS)', 'A.I.M.', 'Aaron Stack', 'Abomination (Emil Blonsky)', 'Abomination (Ultimate)', 'Absorbing Man', 'Abyss', 'Abyss (Age of Apocalypse)', 'Adam Destine', 'Adam Warlock', 'Aegis (Trey Rollins)', 'Aero (Aero)', 'Agatha Harkness', 'Agent Brand', 'Agent X (Nijo)', 'Agent Zero', 'Agents of Atlas', 'Aginar', 'Air-Walker (Gabriel Lan)', 'Ajak', 'Ajaxis', 'Akemi', 'Alain', 'Albert Cleary', 'Albion', 'Alex Power', 'Alex Wilder', 'Alexa Mendez', 'Alexander Pierce']\n"
     ]
    }
   ],
   "source": [
    "print(list_characters)"
   ]
  },
  {
   "cell_type": "markdown",
   "metadata": {},
   "source": [
    "<b>2. Retrieve the Ids for all the characters in your list (in str form)</b>"
   ]
  },
  {
   "cell_type": "code",
   "execution_count": 7,
   "metadata": {},
   "outputs": [],
   "source": [
    "list_ids=[]\n",
    "for i in characters['data']['results']:\n",
    "    for j in i:\n",
    "        if j == 'id':\n",
    "            list_ids.append(str(i[j]))"
   ]
  },
  {
   "cell_type": "code",
   "execution_count": 42,
   "metadata": {},
   "outputs": [
    {
     "name": "stdout",
     "output_type": "stream",
     "text": [
      "['1011334', '1017100', '1009144', '1010699', '1009146', '1016823', '1009148', '1009149', '1010903', '1011266', '1010354', '1010846', '1017851', '1012717', '1011297', '1011031', '1009150', '1011198', '1011175', '1011136', '1011176', '1010870', '1011194', '1011170', '1009240', '1011120', '1010836', '1010755', '1011214', '1009497']\n"
     ]
    },
    {
     "data": {
      "text/plain": [
       "30"
      ]
     },
     "execution_count": 42,
     "metadata": {},
     "output_type": "execute_result"
    }
   ],
   "source": [
    "print(list_ids)"
   ]
  },
  {
   "cell_type": "markdown",
   "metadata": {},
   "source": [
    "<b>3. Retrieve the total number of Events available for all the characters in your list (in integer form)</b>"
   ]
  },
  {
   "cell_type": "code",
   "execution_count": 9,
   "metadata": {},
   "outputs": [],
   "source": [
    "endpoint_events = \"/v1/public/characters/{characterId}/events\".format(characterId=1011334)"
   ]
  },
  {
   "cell_type": "code",
   "execution_count": 85,
   "metadata": {},
   "outputs": [],
   "source": [
    "body_events= { 'ts':ts_str,'apikey': api_key,'hash':hash3}\n",
    "list_events = []\n",
    "for i in list_ids:\n",
    "    endpoint_events = \"/v1/public/characters/{characterId}/events\".format(characterId=int(i))\n",
    "    url_final_events = url_base + endpoint_events\n",
    "    c= requests.get(url=url_final_events, params= body_events).json()\n",
    "    if c['data']['count'] == 0:\n",
    "        list_events.append(None)\n",
    "    else:\n",
    "        list_events.append(c['data']['count'])"
   ]
  },
  {
   "cell_type": "code",
   "execution_count": 86,
   "metadata": {},
   "outputs": [
    {
     "data": {
      "text/plain": [
       "[1,\n",
       " None,\n",
       " None,\n",
       " None,\n",
       " 1,\n",
       " None,\n",
       " 4,\n",
       " 1,\n",
       " 1,\n",
       " None,\n",
       " 8,\n",
       " None,\n",
       " None,\n",
       " None,\n",
       " None,\n",
       " None,\n",
       " None,\n",
       " 1,\n",
       " None,\n",
       " 1,\n",
       " 1,\n",
       " None,\n",
       " None,\n",
       " None,\n",
       " None,\n",
       " None,\n",
       " None,\n",
       " None,\n",
       " None,\n",
       " None]"
      ]
     },
     "execution_count": 86,
     "metadata": {},
     "output_type": "execute_result"
    }
   ],
   "source": [
    "list_events"
   ]
  },
  {
   "cell_type": "markdown",
   "metadata": {},
   "source": [
    "<b>4. Retrieve the total number of Series available for all the characters in your list  (in integer form)</b>"
   ]
  },
  {
   "cell_type": "code",
   "execution_count": 87,
   "metadata": {},
   "outputs": [],
   "source": [
    "body_series= {'ts':ts_str,'apikey': api_key,'hash':hash3} #repeated from the previous\n",
    "list_series = []\n",
    "for i in list_ids:\n",
    "    endpoint_events = \"/v1/public/characters/{characterId}/series\".format(characterId=int(i))\n",
    "    url_final_series = url_base + endpoint_events\n",
    "    c= requests.get(url=url_final_series, params= body_series).json()\n",
    "    if c['data']['count'] == 0:\n",
    "        list_series.append(None)\n",
    "    else:\n",
    "        list_series.append(c['data']['count'])            "
   ]
  },
  {
   "cell_type": "code",
   "execution_count": 88,
   "metadata": {},
   "outputs": [
    {
     "data": {
      "text/plain": [
       "[3,\n",
       " 2,\n",
       " 20,\n",
       " 3,\n",
       " 20,\n",
       " 2,\n",
       " 20,\n",
       " 3,\n",
       " 3,\n",
       " None,\n",
       " 20,\n",
       " None,\n",
       " 5,\n",
       " 10,\n",
       " 7,\n",
       " 3,\n",
       " 10,\n",
       " 13,\n",
       " None,\n",
       " 3,\n",
       " 1,\n",
       " None,\n",
       " None,\n",
       " None,\n",
       " None,\n",
       " 1,\n",
       " 6,\n",
       " 4,\n",
       " None,\n",
       " 1]"
      ]
     },
     "execution_count": 88,
     "metadata": {},
     "output_type": "execute_result"
    }
   ],
   "source": [
    "list_series"
   ]
  },
  {
   "cell_type": "markdown",
   "metadata": {},
   "source": [
    "<b>5. Retrieve the total number of Comics available for all the characters in your list (in integer form)</b>"
   ]
  },
  {
   "cell_type": "code",
   "execution_count": 89,
   "metadata": {},
   "outputs": [],
   "source": [
    "body_comics= {'ts':ts_str,'apikey': api_key,'hash':hash3} #repeated from the previous\n",
    "list_comics = []\n",
    "for i in list_ids:\n",
    "    endpoint_comics = \"/v1/public/characters/{characterId}/comics\".format(characterId=int(i))\n",
    "    url_final_comics = url_base + endpoint_comics\n",
    "    c= requests.get(url=url_final_comics, params= body_comics).json()\n",
    "    if c['data']['count'] == 0:\n",
    "        list_comics.append(None) \n",
    "    else:\n",
    "        list_comics.append(c['data']['count']) "
   ]
  },
  {
   "cell_type": "code",
   "execution_count": 90,
   "metadata": {},
   "outputs": [
    {
     "data": {
      "text/plain": [
       "[12,\n",
       " 4,\n",
       " 20,\n",
       " 14,\n",
       " 20,\n",
       " 2,\n",
       " 20,\n",
       " 8,\n",
       " 3,\n",
       " None,\n",
       " 20,\n",
       " None,\n",
       " 20,\n",
       " 20,\n",
       " 20,\n",
       " 18,\n",
       " 20,\n",
       " 20,\n",
       " None,\n",
       " 4,\n",
       " 4,\n",
       " None,\n",
       " None,\n",
       " None,\n",
       " None,\n",
       " 1,\n",
       " 18,\n",
       " 9,\n",
       " None,\n",
       " 1]"
      ]
     },
     "execution_count": 90,
     "metadata": {},
     "output_type": "execute_result"
    }
   ],
   "source": [
    "list_comics"
   ]
  },
  {
   "cell_type": "markdown",
   "metadata": {},
   "source": [
    "<b> 6. Retrieve the Price of the most expensive comic that the character was featured in or all the characters in your list (in float form and USD)</b>"
   ]
  },
  {
   "cell_type": "code",
   "execution_count": 80,
   "metadata": {},
   "outputs": [
    {
     "name": "stdout",
     "output_type": "stream",
     "text": [
      "{'1011334': [2.99, 1.99, 2.99, 1.99, 2.99, 2.99, 1.99, 2.99, 1.99, 2.99, 1.99, 2.99, 1.99, 2.99, 0, 1.99, 0, 0, 0], '1017100': [0.2, 0, 2.99, 1.99, 2.99, 1.99, 2.99, 1.99], '1009144': [0, 0, 39.99, 125, 0, 39.99, 0, 0, 0, 0, 3.99, 1.99, 3.99, 1.99, 3.99, 1.99, 3.99, 1.99, 3.99, 1.99, 2.99, 14.99, 3.99, 1.99, 3.99, 0], '1010699': [2.99, 1.99, 2.99, 1.99, 2.99, 2.99, 1.99, 2.99, 1.99, 2.99, 1.99, 2.99, 0, 1.99, 0, 1.99, 0, 1.99, 0, 1.99, 0, 1.99, 0, 1.99, 0, 1.99], '1009146': [3.99, 3.99, 75, 39.99, 34.99, 3.99, 1.99, 3.99, 1.99, 3.99, 2.99, 1.99, 9.99, 19.99, 2.99, 1.99, 9.99, 49.99, 2.99, 9.99, 9.99, 9.99, 0, 0], '1016823': [3.99, 1.99, 0, 1.99], '1009148': [3.99, 3.99, 3.99, 3.99, 3.99, 3.99, 3.99, 3.99, 3.99, 3.99, 15.99, 3.99, 3.99, 75, 17.99, 3.99, 3.99, 3.99, 3.99, 3.99, 3.99, 3.99, 3.99, 3.99, 3.99, 3.99, 3.99, 3.99, 3.99, 3.99, 3.99, 3.99, 3.99, 3.99, 3.99, 1.99], '1009149': [9.99, 0, 1.99, 0, 1.99, 0, 1.99, 0, 1.99, 0, 1.99, 0, 1.99, 3.95, 1.99], '1010903': [9.99, 1.95, 1.99, 3.95, 1.99], '1011266': [None], '1010354': [24.99, 50, 4.99, 4.99, 125, 125, 3.99, 3.99, 5.99, 5.99, 17.99, 4.99, 4.99, 29.99, 4.99, 4.99, 4.99, 4.99, 4.99, 4.99, 4.99, 4.99, 1, 4.99, 4.99, 1, 15.99, 0, 0], '1010846': [None], '1017851': [3.99, 3.99, 3.99, 3.99, 3.99, 3.99, 3.99, 3.99, 3.99, 3.99, 3.99, 4.99, 4.99, 3.99, 3.99, 3.99, 3.99, 3.99, 3.99, 3.99, 3.99, 3.99, 3.99, 3.99, 3.99, 3.99, 3.99, 3.99, 3.99, 3.99, 3.99, 3.99, 3.99, 3.99, 3.99], '1012717': [3.99, 3.99, 3.99, 3.99, 3.99, 3.99, 3.99, 2.99, 2.99, 1.99, 2.99, 1.99, 2.99, 1.99, 49.99, 1.95, 1.99, 1.95, 1.99, 1.95, 1.99, 1.95, 1.99, 2.95, 1.99, 0, 0, 0, 0, 0, 0], '1011297': [3.99, 3.99, 4.99, 3.99, 3.99, 3.99, 3.99, 3.99, 3.99, 3.99, 3.99, 3.99, 3.99, 3.99, 3.99, 3.99, 3.99, 3.99, 3.99, 3.99, 3.99, 4.99, 4.99, 3.99, 3.99, 3.99, 1.99, 3.99, 3.99, 3.99, 1.99, 15.99, 2.99], '1011031': [2.99, 9.99, 2.99, 1.99, 2.99, 1.99, 0, 1.99, 0, 1.99, 0, 1.99, 0, 1.99, 0, 1.99, 0, 1.99, 0, 1.99, 0, 1.99, 0, 1.99, 0, 1.99, 0, 1.99, 0, 1.99, 0, 1.99, 0, 1.99], '1009150': [0, 0, 2.99, 2.99, 0, 2.99, 2.99, 2.99, 1.99, 0, 1.99, 0, 0, 0, 0, 0, 1.95, 0, 0, 3.95, 1.99], '1011198': [3.99, 3.99, 3.99, 3.99, 3.99, 3.99, 9.99, 9.99, 15.99, 4.99, 4.99, 3.99, 3.99, 39.99, 39.99, 2.99, 1.99, 2.99, 1.99, 2.99, 1.99, 3.99, 1.99, 3.99, 0, 3.99, 3.99, 3.99, 2.99, 2.99], '1011175': [None], '1011136': [9.99, 2.99, 1.99, 0, 1.99, 0, 1.99], '1011176': [2.99, 1.99, 2.99, 1.99, 2.99, 1.99, 2.99, 1.99], '1010870': [None], '1011194': [None], '1011170': [None], '1009240': [None], '1011120': [2.99], '1010836': [3.99, 3.99, 3.99, 3.99, 3.99, 3.99, 3.99, 3.99, 3.99, 3.99, 2.99, 1.99, 2.99, 1.99, 2.99, 1.99, 2.99, 1.99, 2.99, 2.99, 2.99, 2.99, 6.99, 2.99, 2.99, 2.99, 2.99], '1010755': [3.99, 3.99, 3.99, 3.99, 0, 0, 1.99, 0, 1.99, 0, 1.99, 0, 1.99, 0, 1.99, 0, 1.99], '1011214': [None], '1009497': [2.99, 1.99]}\n"
     ]
    }
   ],
   "source": [
    "#Needs to be completed\n",
    "body_prices= {'ts':ts_str,'apikey': api_key,'hash':hash3} #repeated from the previous\n",
    "dic_prices= {}\n",
    "for i in list_ids:\n",
    "    endpoint_comics = \"/v1/public/characters/{characterId}/comics\".format(characterId=int(i))\n",
    "    url_final_comics = url_base + endpoint_comics\n",
    "    c= requests.get(url=url_final_comics, params= body_comics).json()\n",
    "    if len(c['data']['results'])==0:\n",
    "        x= None\n",
    "        dic_prices.setdefault(i, [])\n",
    "        dic_prices[i].append(x)\n",
    "    else:\n",
    "        for j in c['data']['results']:#for each comic in the list\n",
    "            for k in j['prices']:\n",
    "                x= k['price']\n",
    "                dic_prices.setdefault(i, [])\n",
    "                dic_prices[i].append(x)\n",
    "print (dic_prices) # The ids not appearing in the list mean no comics found"
   ]
  },
  {
   "cell_type": "code",
   "execution_count": 81,
   "metadata": {},
   "outputs": [],
   "source": [
    "list_max_prices=[] #not optimal I think\n",
    "for x in dic_prices:\n",
    "    if dic_prices[x]==None:\n",
    "        list_max_prices.append(None)\n",
    "    else:\n",
    "        i= max(dic_prices[x])\n",
    "        list_max_prices.append(i)"
   ]
  },
  {
   "cell_type": "code",
   "execution_count": 82,
   "metadata": {},
   "outputs": [
    {
     "data": {
      "text/plain": [
       "[2.99,\n",
       " 2.99,\n",
       " 125,\n",
       " 2.99,\n",
       " 75,\n",
       " 3.99,\n",
       " 75,\n",
       " 9.99,\n",
       " 9.99,\n",
       " None,\n",
       " 125,\n",
       " None,\n",
       " 4.99,\n",
       " 49.99,\n",
       " 15.99,\n",
       " 9.99,\n",
       " 3.95,\n",
       " 39.99,\n",
       " None,\n",
       " 9.99,\n",
       " 2.99,\n",
       " None,\n",
       " None,\n",
       " None,\n",
       " None,\n",
       " 2.99,\n",
       " 6.99,\n",
       " 3.99,\n",
       " None,\n",
       " 2.99]"
      ]
     },
     "execution_count": 82,
     "metadata": {},
     "output_type": "execute_result"
    }
   ],
   "source": [
    "list_max_prices #Not sure it is in USD"
   ]
  },
  {
   "cell_type": "markdown",
   "metadata": {},
   "source": [
    "<b>7. Store the data above in a pandas DataFrame</b>"
   ]
  },
  {
   "cell_type": "code",
   "execution_count": 51,
   "metadata": {},
   "outputs": [],
   "source": [
    "import pandas as pd"
   ]
  },
  {
   "cell_type": "code",
   "execution_count": 91,
   "metadata": {},
   "outputs": [],
   "source": [
    "df = pd.DataFrame({'Character Name':list_characters, 'Character ID':list_ids,'Total Available Events':list_events,'Total Available Series':list_series,'Total Available Comics':list_comics,'Price of the Most Expensive Comic':list_max_prices })"
   ]
  },
  {
   "cell_type": "code",
   "execution_count": 92,
   "metadata": {},
   "outputs": [
    {
     "data": {
      "text/html": [
       "<div>\n",
       "<style scoped>\n",
       "    .dataframe tbody tr th:only-of-type {\n",
       "        vertical-align: middle;\n",
       "    }\n",
       "\n",
       "    .dataframe tbody tr th {\n",
       "        vertical-align: top;\n",
       "    }\n",
       "\n",
       "    .dataframe thead th {\n",
       "        text-align: right;\n",
       "    }\n",
       "</style>\n",
       "<table border=\"1\" class=\"dataframe\">\n",
       "  <thead>\n",
       "    <tr style=\"text-align: right;\">\n",
       "      <th></th>\n",
       "      <th>Character Name</th>\n",
       "      <th>Character ID</th>\n",
       "      <th>Total Available Events</th>\n",
       "      <th>Total Available Series</th>\n",
       "      <th>Total Available Comics</th>\n",
       "      <th>Price of the Most Expensive Comic</th>\n",
       "    </tr>\n",
       "  </thead>\n",
       "  <tbody>\n",
       "    <tr>\n",
       "      <td>0</td>\n",
       "      <td>3-D Man</td>\n",
       "      <td>1011334</td>\n",
       "      <td>1.0</td>\n",
       "      <td>3.0</td>\n",
       "      <td>12.0</td>\n",
       "      <td>2.99</td>\n",
       "    </tr>\n",
       "    <tr>\n",
       "      <td>1</td>\n",
       "      <td>A-Bomb (HAS)</td>\n",
       "      <td>1017100</td>\n",
       "      <td>NaN</td>\n",
       "      <td>2.0</td>\n",
       "      <td>4.0</td>\n",
       "      <td>2.99</td>\n",
       "    </tr>\n",
       "    <tr>\n",
       "      <td>2</td>\n",
       "      <td>A.I.M.</td>\n",
       "      <td>1009144</td>\n",
       "      <td>NaN</td>\n",
       "      <td>20.0</td>\n",
       "      <td>20.0</td>\n",
       "      <td>125.00</td>\n",
       "    </tr>\n",
       "    <tr>\n",
       "      <td>3</td>\n",
       "      <td>Aaron Stack</td>\n",
       "      <td>1010699</td>\n",
       "      <td>NaN</td>\n",
       "      <td>3.0</td>\n",
       "      <td>14.0</td>\n",
       "      <td>2.99</td>\n",
       "    </tr>\n",
       "    <tr>\n",
       "      <td>4</td>\n",
       "      <td>Abomination (Emil Blonsky)</td>\n",
       "      <td>1009146</td>\n",
       "      <td>1.0</td>\n",
       "      <td>20.0</td>\n",
       "      <td>20.0</td>\n",
       "      <td>75.00</td>\n",
       "    </tr>\n",
       "    <tr>\n",
       "      <td>5</td>\n",
       "      <td>Abomination (Ultimate)</td>\n",
       "      <td>1016823</td>\n",
       "      <td>NaN</td>\n",
       "      <td>2.0</td>\n",
       "      <td>2.0</td>\n",
       "      <td>3.99</td>\n",
       "    </tr>\n",
       "    <tr>\n",
       "      <td>6</td>\n",
       "      <td>Absorbing Man</td>\n",
       "      <td>1009148</td>\n",
       "      <td>4.0</td>\n",
       "      <td>20.0</td>\n",
       "      <td>20.0</td>\n",
       "      <td>75.00</td>\n",
       "    </tr>\n",
       "    <tr>\n",
       "      <td>7</td>\n",
       "      <td>Abyss</td>\n",
       "      <td>1009149</td>\n",
       "      <td>1.0</td>\n",
       "      <td>3.0</td>\n",
       "      <td>8.0</td>\n",
       "      <td>9.99</td>\n",
       "    </tr>\n",
       "    <tr>\n",
       "      <td>8</td>\n",
       "      <td>Abyss (Age of Apocalypse)</td>\n",
       "      <td>1010903</td>\n",
       "      <td>1.0</td>\n",
       "      <td>3.0</td>\n",
       "      <td>3.0</td>\n",
       "      <td>9.99</td>\n",
       "    </tr>\n",
       "    <tr>\n",
       "      <td>9</td>\n",
       "      <td>Adam Destine</td>\n",
       "      <td>1011266</td>\n",
       "      <td>NaN</td>\n",
       "      <td>NaN</td>\n",
       "      <td>NaN</td>\n",
       "      <td>NaN</td>\n",
       "    </tr>\n",
       "    <tr>\n",
       "      <td>10</td>\n",
       "      <td>Adam Warlock</td>\n",
       "      <td>1010354</td>\n",
       "      <td>8.0</td>\n",
       "      <td>20.0</td>\n",
       "      <td>20.0</td>\n",
       "      <td>125.00</td>\n",
       "    </tr>\n",
       "    <tr>\n",
       "      <td>11</td>\n",
       "      <td>Aegis (Trey Rollins)</td>\n",
       "      <td>1010846</td>\n",
       "      <td>NaN</td>\n",
       "      <td>NaN</td>\n",
       "      <td>NaN</td>\n",
       "      <td>NaN</td>\n",
       "    </tr>\n",
       "    <tr>\n",
       "      <td>12</td>\n",
       "      <td>Aero (Aero)</td>\n",
       "      <td>1017851</td>\n",
       "      <td>NaN</td>\n",
       "      <td>5.0</td>\n",
       "      <td>20.0</td>\n",
       "      <td>4.99</td>\n",
       "    </tr>\n",
       "    <tr>\n",
       "      <td>13</td>\n",
       "      <td>Agatha Harkness</td>\n",
       "      <td>1012717</td>\n",
       "      <td>NaN</td>\n",
       "      <td>10.0</td>\n",
       "      <td>20.0</td>\n",
       "      <td>49.99</td>\n",
       "    </tr>\n",
       "    <tr>\n",
       "      <td>14</td>\n",
       "      <td>Agent Brand</td>\n",
       "      <td>1011297</td>\n",
       "      <td>NaN</td>\n",
       "      <td>7.0</td>\n",
       "      <td>20.0</td>\n",
       "      <td>15.99</td>\n",
       "    </tr>\n",
       "    <tr>\n",
       "      <td>15</td>\n",
       "      <td>Agent X (Nijo)</td>\n",
       "      <td>1011031</td>\n",
       "      <td>NaN</td>\n",
       "      <td>3.0</td>\n",
       "      <td>18.0</td>\n",
       "      <td>9.99</td>\n",
       "    </tr>\n",
       "    <tr>\n",
       "      <td>16</td>\n",
       "      <td>Agent Zero</td>\n",
       "      <td>1009150</td>\n",
       "      <td>NaN</td>\n",
       "      <td>10.0</td>\n",
       "      <td>20.0</td>\n",
       "      <td>3.95</td>\n",
       "    </tr>\n",
       "    <tr>\n",
       "      <td>17</td>\n",
       "      <td>Agents of Atlas</td>\n",
       "      <td>1011198</td>\n",
       "      <td>1.0</td>\n",
       "      <td>13.0</td>\n",
       "      <td>20.0</td>\n",
       "      <td>39.99</td>\n",
       "    </tr>\n",
       "    <tr>\n",
       "      <td>18</td>\n",
       "      <td>Aginar</td>\n",
       "      <td>1011175</td>\n",
       "      <td>NaN</td>\n",
       "      <td>NaN</td>\n",
       "      <td>NaN</td>\n",
       "      <td>NaN</td>\n",
       "    </tr>\n",
       "    <tr>\n",
       "      <td>19</td>\n",
       "      <td>Air-Walker (Gabriel Lan)</td>\n",
       "      <td>1011136</td>\n",
       "      <td>1.0</td>\n",
       "      <td>3.0</td>\n",
       "      <td>4.0</td>\n",
       "      <td>9.99</td>\n",
       "    </tr>\n",
       "    <tr>\n",
       "      <td>20</td>\n",
       "      <td>Ajak</td>\n",
       "      <td>1011176</td>\n",
       "      <td>1.0</td>\n",
       "      <td>1.0</td>\n",
       "      <td>4.0</td>\n",
       "      <td>2.99</td>\n",
       "    </tr>\n",
       "    <tr>\n",
       "      <td>21</td>\n",
       "      <td>Ajaxis</td>\n",
       "      <td>1010870</td>\n",
       "      <td>NaN</td>\n",
       "      <td>NaN</td>\n",
       "      <td>NaN</td>\n",
       "      <td>NaN</td>\n",
       "    </tr>\n",
       "    <tr>\n",
       "      <td>22</td>\n",
       "      <td>Akemi</td>\n",
       "      <td>1011194</td>\n",
       "      <td>NaN</td>\n",
       "      <td>NaN</td>\n",
       "      <td>NaN</td>\n",
       "      <td>NaN</td>\n",
       "    </tr>\n",
       "    <tr>\n",
       "      <td>23</td>\n",
       "      <td>Alain</td>\n",
       "      <td>1011170</td>\n",
       "      <td>NaN</td>\n",
       "      <td>NaN</td>\n",
       "      <td>NaN</td>\n",
       "      <td>NaN</td>\n",
       "    </tr>\n",
       "    <tr>\n",
       "      <td>24</td>\n",
       "      <td>Albert Cleary</td>\n",
       "      <td>1009240</td>\n",
       "      <td>NaN</td>\n",
       "      <td>NaN</td>\n",
       "      <td>NaN</td>\n",
       "      <td>NaN</td>\n",
       "    </tr>\n",
       "    <tr>\n",
       "      <td>25</td>\n",
       "      <td>Albion</td>\n",
       "      <td>1011120</td>\n",
       "      <td>NaN</td>\n",
       "      <td>1.0</td>\n",
       "      <td>1.0</td>\n",
       "      <td>2.99</td>\n",
       "    </tr>\n",
       "    <tr>\n",
       "      <td>26</td>\n",
       "      <td>Alex Power</td>\n",
       "      <td>1010836</td>\n",
       "      <td>NaN</td>\n",
       "      <td>6.0</td>\n",
       "      <td>18.0</td>\n",
       "      <td>6.99</td>\n",
       "    </tr>\n",
       "    <tr>\n",
       "      <td>27</td>\n",
       "      <td>Alex Wilder</td>\n",
       "      <td>1010755</td>\n",
       "      <td>NaN</td>\n",
       "      <td>4.0</td>\n",
       "      <td>9.0</td>\n",
       "      <td>3.99</td>\n",
       "    </tr>\n",
       "    <tr>\n",
       "      <td>28</td>\n",
       "      <td>Alexa Mendez</td>\n",
       "      <td>1011214</td>\n",
       "      <td>NaN</td>\n",
       "      <td>NaN</td>\n",
       "      <td>NaN</td>\n",
       "      <td>NaN</td>\n",
       "    </tr>\n",
       "    <tr>\n",
       "      <td>29</td>\n",
       "      <td>Alexander Pierce</td>\n",
       "      <td>1009497</td>\n",
       "      <td>NaN</td>\n",
       "      <td>1.0</td>\n",
       "      <td>1.0</td>\n",
       "      <td>2.99</td>\n",
       "    </tr>\n",
       "  </tbody>\n",
       "</table>\n",
       "</div>"
      ],
      "text/plain": [
       "                Character Name Character ID  Total Available Events  \\\n",
       "0                      3-D Man      1011334                     1.0   \n",
       "1                 A-Bomb (HAS)      1017100                     NaN   \n",
       "2                       A.I.M.      1009144                     NaN   \n",
       "3                  Aaron Stack      1010699                     NaN   \n",
       "4   Abomination (Emil Blonsky)      1009146                     1.0   \n",
       "5       Abomination (Ultimate)      1016823                     NaN   \n",
       "6                Absorbing Man      1009148                     4.0   \n",
       "7                        Abyss      1009149                     1.0   \n",
       "8    Abyss (Age of Apocalypse)      1010903                     1.0   \n",
       "9                 Adam Destine      1011266                     NaN   \n",
       "10                Adam Warlock      1010354                     8.0   \n",
       "11        Aegis (Trey Rollins)      1010846                     NaN   \n",
       "12                 Aero (Aero)      1017851                     NaN   \n",
       "13             Agatha Harkness      1012717                     NaN   \n",
       "14                 Agent Brand      1011297                     NaN   \n",
       "15              Agent X (Nijo)      1011031                     NaN   \n",
       "16                  Agent Zero      1009150                     NaN   \n",
       "17             Agents of Atlas      1011198                     1.0   \n",
       "18                      Aginar      1011175                     NaN   \n",
       "19    Air-Walker (Gabriel Lan)      1011136                     1.0   \n",
       "20                        Ajak      1011176                     1.0   \n",
       "21                      Ajaxis      1010870                     NaN   \n",
       "22                       Akemi      1011194                     NaN   \n",
       "23                       Alain      1011170                     NaN   \n",
       "24               Albert Cleary      1009240                     NaN   \n",
       "25                      Albion      1011120                     NaN   \n",
       "26                  Alex Power      1010836                     NaN   \n",
       "27                 Alex Wilder      1010755                     NaN   \n",
       "28                Alexa Mendez      1011214                     NaN   \n",
       "29            Alexander Pierce      1009497                     NaN   \n",
       "\n",
       "    Total Available Series  Total Available Comics  \\\n",
       "0                      3.0                    12.0   \n",
       "1                      2.0                     4.0   \n",
       "2                     20.0                    20.0   \n",
       "3                      3.0                    14.0   \n",
       "4                     20.0                    20.0   \n",
       "5                      2.0                     2.0   \n",
       "6                     20.0                    20.0   \n",
       "7                      3.0                     8.0   \n",
       "8                      3.0                     3.0   \n",
       "9                      NaN                     NaN   \n",
       "10                    20.0                    20.0   \n",
       "11                     NaN                     NaN   \n",
       "12                     5.0                    20.0   \n",
       "13                    10.0                    20.0   \n",
       "14                     7.0                    20.0   \n",
       "15                     3.0                    18.0   \n",
       "16                    10.0                    20.0   \n",
       "17                    13.0                    20.0   \n",
       "18                     NaN                     NaN   \n",
       "19                     3.0                     4.0   \n",
       "20                     1.0                     4.0   \n",
       "21                     NaN                     NaN   \n",
       "22                     NaN                     NaN   \n",
       "23                     NaN                     NaN   \n",
       "24                     NaN                     NaN   \n",
       "25                     1.0                     1.0   \n",
       "26                     6.0                    18.0   \n",
       "27                     4.0                     9.0   \n",
       "28                     NaN                     NaN   \n",
       "29                     1.0                     1.0   \n",
       "\n",
       "    Price of the Most Expensive Comic  \n",
       "0                                2.99  \n",
       "1                                2.99  \n",
       "2                              125.00  \n",
       "3                                2.99  \n",
       "4                               75.00  \n",
       "5                                3.99  \n",
       "6                               75.00  \n",
       "7                                9.99  \n",
       "8                                9.99  \n",
       "9                                 NaN  \n",
       "10                             125.00  \n",
       "11                                NaN  \n",
       "12                               4.99  \n",
       "13                              49.99  \n",
       "14                              15.99  \n",
       "15                               9.99  \n",
       "16                               3.95  \n",
       "17                              39.99  \n",
       "18                                NaN  \n",
       "19                               9.99  \n",
       "20                               2.99  \n",
       "21                                NaN  \n",
       "22                                NaN  \n",
       "23                                NaN  \n",
       "24                                NaN  \n",
       "25                               2.99  \n",
       "26                               6.99  \n",
       "27                               3.99  \n",
       "28                                NaN  \n",
       "29                               2.99  "
      ]
     },
     "execution_count": 92,
     "metadata": {},
     "output_type": "execute_result"
    }
   ],
   "source": [
    "df"
   ]
  },
  {
   "cell_type": "code",
   "execution_count": 94,
   "metadata": {},
   "outputs": [],
   "source": [
    "df.to_csv(path_or_buf=\"data.csv\")"
   ]
  }
 ],
 "metadata": {
  "kernelspec": {
   "display_name": "Python 3",
   "language": "python",
   "name": "python3"
  },
  "language_info": {
   "codemirror_mode": {
    "name": "ipython",
    "version": 3
   },
   "file_extension": ".py",
   "mimetype": "text/x-python",
   "name": "python",
   "nbconvert_exporter": "python",
   "pygments_lexer": "ipython3",
   "version": "3.7.4"
  }
 },
 "nbformat": 4,
 "nbformat_minor": 2
}
