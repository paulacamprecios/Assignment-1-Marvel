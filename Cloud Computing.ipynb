{
 "cells": [
  {
   "cell_type": "code",
   "execution_count": 289,
   "metadata": {},
   "outputs": [],
   "source": [
    "api_key= \"ea0518bbe4e05ba4b9685668b348a1d7\"\n",
    "\n",
    "api_private_key = \"6704343727a4d01b047aec1033b8478f540932c9\"\n",
    "\n",
    "url_base = \"http://gateway.marvel.com\"\n",
    "\n",
    "endpoint_lists = \"/v1/public/characters\"\n"
   ]
  },
  {
   "cell_type": "code",
   "execution_count": 290,
   "metadata": {},
   "outputs": [],
   "source": [
    "import requests"
   ]
  },
  {
   "cell_type": "code",
   "execution_count": 305,
   "metadata": {},
   "outputs": [],
   "source": [
    "# Provide a list of 30 Marvel characters\n",
    "\n",
    "url_list = url_base + endpoint_lists\n",
    "\n",
    "import time\n",
    "\n",
    "ts = 1000\n",
    "\n",
    "ts_str = str(int(ts))\n",
    "\n",
    "import hashlib\n",
    "\n",
    "hash1 = str(ts_str)+api_private_key+api_key\n",
    "\n",
    "hash2= hashlib.md5(hash1.encode())\n",
    "\n",
    "hash3= hash2.hexdigest()\n",
    "\n",
    "\n",
    "body = {'limit':30, 'ts':ts_str, 'apikey': api_key, 'hash':hash3}\n",
    "\n",
    "characters = requests.get(url=url_list, params= body).json()"
   ]
  },
  {
   "cell_type": "markdown",
   "metadata": {},
   "source": [
    "Provide a list of 30 Marvel characters"
   ]
  },
  {
   "cell_type": "code",
   "execution_count": 337,
   "metadata": {},
   "outputs": [],
   "source": [
    "list_characters=[]\n",
    "for i in characters['data']['results']:\n",
    "    for j in i:\n",
    "        if j == 'name':\n",
    "            list_characters.append(i[j])"
   ]
  },
  {
   "cell_type": "code",
   "execution_count": 344,
   "metadata": {},
   "outputs": [
    {
     "name": "stdout",
     "output_type": "stream",
     "text": [
      "['3-D Man', 'A-Bomb (HAS)', 'A.I.M.', 'Aaron Stack', 'Abomination (Emil Blonsky)', 'Abomination (Ultimate)', 'Absorbing Man', 'Abyss', 'Abyss (Age of Apocalypse)', 'Adam Destine', 'Adam Warlock', 'Aegis (Trey Rollins)', 'Aero (Aero)', 'Agatha Harkness', 'Agent Brand', 'Agent X (Nijo)', 'Agent Zero', 'Agents of Atlas', 'Aginar', 'Air-Walker (Gabriel Lan)', 'Ajak', 'Ajaxis', 'Akemi', 'Alain', 'Albert Cleary', 'Albion', 'Alex Power', 'Alex Wilder', 'Alexa Mendez', 'Alexander Pierce']\n"
     ]
    }
   ],
   "source": [
    "print(list_characters)"
   ]
  },
  {
   "cell_type": "code",
   "execution_count": 346,
   "metadata": {},
   "outputs": [],
   "source": [
    "list_ids=[]\n",
    "for i in characters['data']['results']:\n",
    "    for j in i:\n",
    "        if j == 'id':\n",
    "            list_ids.append(str(i[j]))"
   ]
  },
  {
   "cell_type": "markdown",
   "metadata": {},
   "source": [
    "Retrieve the Ids for all the characters in your list (in str form)"
   ]
  },
  {
   "cell_type": "code",
   "execution_count": 347,
   "metadata": {},
   "outputs": [
    {
     "name": "stdout",
     "output_type": "stream",
     "text": [
      "['1011334', '1017100', '1009144', '1010699', '1009146', '1016823', '1009148', '1009149', '1010903', '1011266', '1010354', '1010846', '1017851', '1012717', '1011297', '1011031', '1009150', '1011198', '1011175', '1011136', '1011176', '1010870', '1011194', '1011170', '1009240', '1011120', '1010836', '1010755', '1011214', '1009497']\n"
     ]
    }
   ],
   "source": [
    "print(list_ids)"
   ]
  },
  {
   "cell_type": "markdown",
   "metadata": {},
   "source": [
    "3. Retrieve the total number of Events available for all the characters in your list (in integer form)"
   ]
  },
  {
   "cell_type": "code",
   "execution_count": 376,
   "metadata": {},
   "outputs": [
    {
     "name": "stdout",
     "output_type": "stream",
     "text": [
      "19\n"
     ]
    }
   ],
   "source": [
    "list_events=[]\n",
    "total=0\n",
    "for i in characters['data']['results']:\n",
    "    for j in i:\n",
    "        if j == 'events':\n",
    "            for k in i[j]:\n",
    "                if k == \"available\":\n",
    "                    c=int(i[j][k])\n",
    "                    total=total+c\n",
    "print (total)"
   ]
  },
  {
   "cell_type": "code",
   "execution_count": null,
   "metadata": {},
   "outputs": [],
   "source": []
  }
 ],
 "metadata": {
  "kernelspec": {
   "display_name": "Python 3",
   "language": "python",
   "name": "python3"
  },
  "language_info": {
   "codemirror_mode": {
    "name": "ipython",
    "version": 3
   },
   "file_extension": ".py",
   "mimetype": "text/x-python",
   "name": "python",
   "nbconvert_exporter": "python",
   "pygments_lexer": "ipython3",
   "version": "3.7.4"
  }
 },
 "nbformat": 4,
 "nbformat_minor": 2
}
