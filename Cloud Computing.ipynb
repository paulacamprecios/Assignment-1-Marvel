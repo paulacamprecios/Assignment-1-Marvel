{
 "cells": [
  {
   "cell_type": "code",
   "execution_count": 1,
   "metadata": {},
   "outputs": [],
   "source": [
    "api_key= \"ea0518bbe4e05ba4b9685668b348a1d7\"\n",
    "\n",
    "api_private_key = \"6704343727a4d01b047aec1033b8478f540932c9\"\n",
    "\n",
    "url_base = \"http://gateway.marvel.com\"\n",
    "\n",
    "endpoint_lists = \"/v1/public/characters\"\n"
   ]
  },
  {
   "cell_type": "code",
   "execution_count": 2,
   "metadata": {},
   "outputs": [],
   "source": [
    "import requests"
   ]
  },
  {
   "cell_type": "code",
   "execution_count": 3,
   "metadata": {},
   "outputs": [],
   "source": [
    "# Provide a list of 30 Marvel characters\n",
    "\n",
    "url_list = url_base + endpoint_lists\n",
    "\n",
    "import time\n",
    "\n",
    "ts = 1000\n",
    "\n",
    "ts_str = str(int(ts))\n",
    "\n",
    "import hashlib\n",
    "\n",
    "hash1 = str(ts_str)+api_private_key+api_key\n",
    "\n",
    "hash2= hashlib.md5(hash1.encode())\n",
    "\n",
    "hash3= hash2.hexdigest()\n",
    "\n",
    "\n",
    "body = {'limit':30, 'ts':ts_str, 'apikey': api_key, 'hash':hash3}\n",
    "\n",
    "characters = requests.get(url=url_list, params= body).json()"
   ]
  },
  {
   "cell_type": "markdown",
   "metadata": {},
   "source": [
    "<b>1. Provide a list of 30 Marvel characters</b>"
   ]
  },
  {
   "cell_type": "code",
   "execution_count": 4,
   "metadata": {},
   "outputs": [],
   "source": [
    "list_characters=[]\n",
    "for i in characters['data']['results']:\n",
    "    for j in i:\n",
    "        if j == 'name':\n",
    "            list_characters.append(i[j])"
   ]
  },
  {
   "cell_type": "code",
   "execution_count": 5,
   "metadata": {},
   "outputs": [
    {
     "name": "stdout",
     "output_type": "stream",
     "text": [
      "['3-D Man', 'A-Bomb (HAS)', 'A.I.M.', 'Aaron Stack', 'Abomination (Emil Blonsky)', 'Abomination (Ultimate)', 'Absorbing Man', 'Abyss', 'Abyss (Age of Apocalypse)', 'Adam Destine', 'Adam Warlock', 'Aegis (Trey Rollins)', 'Aero (Aero)', 'Agatha Harkness', 'Agent Brand', 'Agent X (Nijo)', 'Agent Zero', 'Agents of Atlas', 'Aginar', 'Air-Walker (Gabriel Lan)', 'Ajak', 'Ajaxis', 'Akemi', 'Alain', 'Albert Cleary', 'Albion', 'Alex Power', 'Alex Wilder', 'Alexa Mendez', 'Alexander Pierce']\n"
     ]
    }
   ],
   "source": [
    "print(list_characters)"
   ]
  },
  {
   "cell_type": "markdown",
   "metadata": {},
   "source": [
    "<b>2. Retrieve the Ids for all the characters in your list (in str form)</b>"
   ]
  },
  {
   "cell_type": "code",
   "execution_count": 6,
   "metadata": {},
   "outputs": [],
   "source": [
    "list_ids=[]\n",
    "for i in characters['data']['results']:\n",
    "    for j in i:\n",
    "        if j == 'id':\n",
    "            list_ids.append(str(i[j]))"
   ]
  },
  {
   "cell_type": "code",
   "execution_count": 7,
   "metadata": {},
   "outputs": [
    {
     "name": "stdout",
     "output_type": "stream",
     "text": [
      "['1011334', '1017100', '1009144', '1010699', '1009146', '1016823', '1009148', '1009149', '1010903', '1011266', '1010354', '1010846', '1017851', '1012717', '1011297', '1011031', '1009150', '1011198', '1011175', '1011136', '1011176', '1010870', '1011194', '1011170', '1009240', '1011120', '1010836', '1010755', '1011214', '1009497']\n"
     ]
    }
   ],
   "source": [
    "print(list_ids)"
   ]
  },
  {
   "cell_type": "markdown",
   "metadata": {},
   "source": [
    "<b>3. Retrieve the total number of Events available for all the characters in your list (in integer form)</b>"
   ]
  },
  {
   "cell_type": "code",
   "execution_count": 35,
   "metadata": {},
   "outputs": [],
   "source": [
    "endpoint_events = \"/v1/public/characters/{characterId}/events\".format(characterId=1011334)"
   ]
  },
  {
   "cell_type": "code",
   "execution_count": 46,
   "metadata": {},
   "outputs": [],
   "source": [
    "body_events= { 'ts':ts_str,'apikey': api_key,'hash':hash3}\n",
    "list_events = []\n",
    "for i in list_ids:\n",
    "    endpoint_events = \"/v1/public/characters/{characterId}/events\".format(characterId=int(i))\n",
    "    url_final_events = url_base + endpoint_events\n",
    "    c= requests.get(url=url_final_events, params= body_events).json()\n",
    "    list_events.append(c['data']['count'])"
   ]
  },
  {
   "cell_type": "code",
   "execution_count": 47,
   "metadata": {},
   "outputs": [
    {
     "data": {
      "text/plain": [
       "[1,\n",
       " 0,\n",
       " 0,\n",
       " 0,\n",
       " 1,\n",
       " 0,\n",
       " 4,\n",
       " 1,\n",
       " 1,\n",
       " 0,\n",
       " 8,\n",
       " 0,\n",
       " 0,\n",
       " 0,\n",
       " 0,\n",
       " 0,\n",
       " 0,\n",
       " 1,\n",
       " 0,\n",
       " 1,\n",
       " 1,\n",
       " 0,\n",
       " 0,\n",
       " 0,\n",
       " 0,\n",
       " 0,\n",
       " 0,\n",
       " 0,\n",
       " 0,\n",
       " 0]"
      ]
     },
     "execution_count": 47,
     "metadata": {},
     "output_type": "execute_result"
    }
   ],
   "source": [
    "list_events"
   ]
  },
  {
   "cell_type": "markdown",
   "metadata": {},
   "source": [
    "<b>4. Retrieve the total number of Series available for all the characters in your list  (in integer form)</b>"
   ]
  },
  {
   "cell_type": "code",
   "execution_count": 48,
   "metadata": {},
   "outputs": [],
   "source": [
    "body_series= {'ts':ts_str,'apikey': api_key,'hash':hash3} #repeated from the previous\n",
    "list_series = []\n",
    "for i in list_ids:\n",
    "    endpoint_events = \"/v1/public/characters/{characterId}/series\".format(characterId=int(i))\n",
    "    url_final_series = url_base + endpoint_events\n",
    "    c= requests.get(url=url_final_series, params= body_series).json()\n",
    "    list_series.append(c['data']['count'])            "
   ]
  },
  {
   "cell_type": "code",
   "execution_count": 49,
   "metadata": {},
   "outputs": [
    {
     "data": {
      "text/plain": [
       "[3,\n",
       " 2,\n",
       " 20,\n",
       " 3,\n",
       " 20,\n",
       " 2,\n",
       " 20,\n",
       " 3,\n",
       " 3,\n",
       " 0,\n",
       " 20,\n",
       " 0,\n",
       " 5,\n",
       " 10,\n",
       " 7,\n",
       " 3,\n",
       " 10,\n",
       " 13,\n",
       " 0,\n",
       " 3,\n",
       " 1,\n",
       " 0,\n",
       " 0,\n",
       " 0,\n",
       " 0,\n",
       " 1,\n",
       " 6,\n",
       " 4,\n",
       " 0,\n",
       " 1]"
      ]
     },
     "execution_count": 49,
     "metadata": {},
     "output_type": "execute_result"
    }
   ],
   "source": [
    "list_series"
   ]
  },
  {
   "cell_type": "markdown",
   "metadata": {},
   "source": [
    "<b>5. Retrieve the total number of Comics available for all the characters in your list (in integer form)</b>"
   ]
  },
  {
   "cell_type": "code",
   "execution_count": 50,
   "metadata": {},
   "outputs": [],
   "source": [
    "body_comics= {'ts':ts_str,'apikey': api_key,'hash':hash3} #repeated from the previous\n",
    "list_comics = []\n",
    "for i in list_ids:\n",
    "    endpoint_comics = \"/v1/public/characters/{characterId}/comics\".format(characterId=int(i))\n",
    "    url_final_comics = url_base + endpoint_comics\n",
    "    c= requests.get(url=url_final_comics, params= body_comics).json()\n",
    "    list_comics.append(c['data']['count']) "
   ]
  },
  {
   "cell_type": "code",
   "execution_count": 51,
   "metadata": {},
   "outputs": [
    {
     "data": {
      "text/plain": [
       "[12,\n",
       " 4,\n",
       " 20,\n",
       " 14,\n",
       " 20,\n",
       " 2,\n",
       " 20,\n",
       " 8,\n",
       " 3,\n",
       " 0,\n",
       " 20,\n",
       " 0,\n",
       " 20,\n",
       " 20,\n",
       " 20,\n",
       " 18,\n",
       " 20,\n",
       " 20,\n",
       " 0,\n",
       " 4,\n",
       " 4,\n",
       " 0,\n",
       " 0,\n",
       " 0,\n",
       " 0,\n",
       " 1,\n",
       " 18,\n",
       " 9,\n",
       " 0,\n",
       " 1]"
      ]
     },
     "execution_count": 51,
     "metadata": {},
     "output_type": "execute_result"
    }
   ],
   "source": [
    "list_comics"
   ]
  },
  {
   "cell_type": "markdown",
   "metadata": {},
   "source": [
    "<b> 6. Retrieve the Price of the most expensive comic that the character was featured in or all the characters in your list (in float form and USD)</b>"
   ]
  },
  {
   "cell_type": "code",
   "execution_count": 86,
   "metadata": {},
   "outputs": [
    {
     "ename": "TypeError",
     "evalue": "string indices must be integers",
     "output_type": "error",
     "traceback": [
      "\u001b[0;31m---------------------------------------------------------------------------\u001b[0m",
      "\u001b[0;31mTypeError\u001b[0m                                 Traceback (most recent call last)",
      "\u001b[0;32m<ipython-input-86-259f930ff6d9>\u001b[0m in \u001b[0;36m<module>\u001b[0;34m\u001b[0m\n\u001b[1;32m      7\u001b[0m     \u001b[0;32mfor\u001b[0m \u001b[0mk\u001b[0m \u001b[0;32min\u001b[0m \u001b[0mc\u001b[0m\u001b[0;34m[\u001b[0m\u001b[0;34m'data'\u001b[0m\u001b[0;34m]\u001b[0m\u001b[0;34m[\u001b[0m\u001b[0;34m'results'\u001b[0m\u001b[0;34m]\u001b[0m\u001b[0;34m:\u001b[0m\u001b[0;34m\u001b[0m\u001b[0;34m\u001b[0m\u001b[0m\n\u001b[1;32m      8\u001b[0m         \u001b[0mlist_prices_ind\u001b[0m \u001b[0;34m=\u001b[0m \u001b[0;36m0\u001b[0m\u001b[0;34m\u001b[0m\u001b[0;34m\u001b[0m\u001b[0m\n\u001b[0;32m----> 9\u001b[0;31m         \u001b[0;32mfor\u001b[0m \u001b[0mj\u001b[0m \u001b[0;32min\u001b[0m \u001b[0mi\u001b[0m\u001b[0;34m[\u001b[0m\u001b[0;34m'prices'\u001b[0m\u001b[0;34m]\u001b[0m\u001b[0;34m:\u001b[0m\u001b[0;34m\u001b[0m\u001b[0;34m\u001b[0m\u001b[0m\n\u001b[0m\u001b[1;32m     10\u001b[0m             \u001b[0mprint\u001b[0m \u001b[0;34m(\u001b[0m\u001b[0mj\u001b[0m\u001b[0;34m)\u001b[0m\u001b[0;34m\u001b[0m\u001b[0;34m\u001b[0m\u001b[0m\n",
      "\u001b[0;31mTypeError\u001b[0m: string indices must be integers"
     ]
    }
   ],
   "source": [
    "#Needs to be completed\n",
    "body_prices= {'ts':ts_str,'apikey': api_key,'hash':hash3} #repeated from the previous\n",
    "list_prices = []\n",
    "for i in list_ids:\n",
    "    endpoint_comics = \"/v1/public/characters/{characterId}/comics\".format(characterId=int(i))\n",
    "    url_final_comics = url_base + endpoint_comics\n",
    "    c= requests.get(url=url_final_comics, params= body_comics).json()\n",
    "    for k in c['data']['results']:\n",
    "        list_prices_ind = 0\n",
    "        for j in i['prices']:\n",
    "            print (j)"
   ]
  },
  {
   "cell_type": "code",
   "execution_count": null,
   "metadata": {},
   "outputs": [],
   "source": []
  },
  {
   "cell_type": "code",
   "execution_count": null,
   "metadata": {},
   "outputs": [],
   "source": []
  },
  {
   "cell_type": "code",
   "execution_count": null,
   "metadata": {},
   "outputs": [],
   "source": []
  },
  {
   "cell_type": "code",
   "execution_count": null,
   "metadata": {},
   "outputs": [],
   "source": []
  },
  {
   "cell_type": "code",
   "execution_count": null,
   "metadata": {},
   "outputs": [],
   "source": []
  },
  {
   "cell_type": "code",
   "execution_count": null,
   "metadata": {},
   "outputs": [],
   "source": []
  },
  {
   "cell_type": "code",
   "execution_count": null,
   "metadata": {},
   "outputs": [],
   "source": []
  },
  {
   "cell_type": "code",
   "execution_count": null,
   "metadata": {},
   "outputs": [],
   "source": []
  },
  {
   "cell_type": "code",
   "execution_count": null,
   "metadata": {},
   "outputs": [],
   "source": []
  },
  {
   "cell_type": "code",
   "execution_count": null,
   "metadata": {},
   "outputs": [],
   "source": []
  },
  {
   "cell_type": "code",
   "execution_count": null,
   "metadata": {},
   "outputs": [],
   "source": []
  },
  {
   "cell_type": "code",
   "execution_count": null,
   "metadata": {},
   "outputs": [],
   "source": []
  },
  {
   "cell_type": "markdown",
   "metadata": {},
   "source": [
    "<b>7. Store the data above in a pandas DataFrame</b>"
   ]
  },
  {
   "cell_type": "code",
   "execution_count": 63,
   "metadata": {},
   "outputs": [],
   "source": [
    "import pandas as pd"
   ]
  },
  {
   "cell_type": "code",
   "execution_count": 72,
   "metadata": {},
   "outputs": [],
   "source": [
    "df = pd.DataFrame({'Character Name':list_characters, 'Character ID':list_ids,'Total Available Events':list_events,'Total Available Series':list_series,'Total Available Comics':list_comics })"
   ]
  },
  {
   "cell_type": "code",
   "execution_count": 73,
   "metadata": {},
   "outputs": [
    {
     "data": {
      "text/html": [
       "<div>\n",
       "<style scoped>\n",
       "    .dataframe tbody tr th:only-of-type {\n",
       "        vertical-align: middle;\n",
       "    }\n",
       "\n",
       "    .dataframe tbody tr th {\n",
       "        vertical-align: top;\n",
       "    }\n",
       "\n",
       "    .dataframe thead th {\n",
       "        text-align: right;\n",
       "    }\n",
       "</style>\n",
       "<table border=\"1\" class=\"dataframe\">\n",
       "  <thead>\n",
       "    <tr style=\"text-align: right;\">\n",
       "      <th></th>\n",
       "      <th>Character Name</th>\n",
       "      <th>Character ID</th>\n",
       "      <th>Total Available Events</th>\n",
       "      <th>Total Available Series</th>\n",
       "      <th>Total Available Comics</th>\n",
       "    </tr>\n",
       "  </thead>\n",
       "  <tbody>\n",
       "    <tr>\n",
       "      <td>0</td>\n",
       "      <td>3-D Man</td>\n",
       "      <td>1011334</td>\n",
       "      <td>1</td>\n",
       "      <td>3</td>\n",
       "      <td>12</td>\n",
       "    </tr>\n",
       "    <tr>\n",
       "      <td>1</td>\n",
       "      <td>A-Bomb (HAS)</td>\n",
       "      <td>1017100</td>\n",
       "      <td>0</td>\n",
       "      <td>2</td>\n",
       "      <td>4</td>\n",
       "    </tr>\n",
       "    <tr>\n",
       "      <td>2</td>\n",
       "      <td>A.I.M.</td>\n",
       "      <td>1009144</td>\n",
       "      <td>0</td>\n",
       "      <td>20</td>\n",
       "      <td>20</td>\n",
       "    </tr>\n",
       "    <tr>\n",
       "      <td>3</td>\n",
       "      <td>Aaron Stack</td>\n",
       "      <td>1010699</td>\n",
       "      <td>0</td>\n",
       "      <td>3</td>\n",
       "      <td>14</td>\n",
       "    </tr>\n",
       "    <tr>\n",
       "      <td>4</td>\n",
       "      <td>Abomination (Emil Blonsky)</td>\n",
       "      <td>1009146</td>\n",
       "      <td>1</td>\n",
       "      <td>20</td>\n",
       "      <td>20</td>\n",
       "    </tr>\n",
       "    <tr>\n",
       "      <td>5</td>\n",
       "      <td>Abomination (Ultimate)</td>\n",
       "      <td>1016823</td>\n",
       "      <td>0</td>\n",
       "      <td>2</td>\n",
       "      <td>2</td>\n",
       "    </tr>\n",
       "    <tr>\n",
       "      <td>6</td>\n",
       "      <td>Absorbing Man</td>\n",
       "      <td>1009148</td>\n",
       "      <td>4</td>\n",
       "      <td>20</td>\n",
       "      <td>20</td>\n",
       "    </tr>\n",
       "    <tr>\n",
       "      <td>7</td>\n",
       "      <td>Abyss</td>\n",
       "      <td>1009149</td>\n",
       "      <td>1</td>\n",
       "      <td>3</td>\n",
       "      <td>8</td>\n",
       "    </tr>\n",
       "    <tr>\n",
       "      <td>8</td>\n",
       "      <td>Abyss (Age of Apocalypse)</td>\n",
       "      <td>1010903</td>\n",
       "      <td>1</td>\n",
       "      <td>3</td>\n",
       "      <td>3</td>\n",
       "    </tr>\n",
       "    <tr>\n",
       "      <td>9</td>\n",
       "      <td>Adam Destine</td>\n",
       "      <td>1011266</td>\n",
       "      <td>0</td>\n",
       "      <td>0</td>\n",
       "      <td>0</td>\n",
       "    </tr>\n",
       "    <tr>\n",
       "      <td>10</td>\n",
       "      <td>Adam Warlock</td>\n",
       "      <td>1010354</td>\n",
       "      <td>8</td>\n",
       "      <td>20</td>\n",
       "      <td>20</td>\n",
       "    </tr>\n",
       "    <tr>\n",
       "      <td>11</td>\n",
       "      <td>Aegis (Trey Rollins)</td>\n",
       "      <td>1010846</td>\n",
       "      <td>0</td>\n",
       "      <td>0</td>\n",
       "      <td>0</td>\n",
       "    </tr>\n",
       "    <tr>\n",
       "      <td>12</td>\n",
       "      <td>Aero (Aero)</td>\n",
       "      <td>1017851</td>\n",
       "      <td>0</td>\n",
       "      <td>5</td>\n",
       "      <td>20</td>\n",
       "    </tr>\n",
       "    <tr>\n",
       "      <td>13</td>\n",
       "      <td>Agatha Harkness</td>\n",
       "      <td>1012717</td>\n",
       "      <td>0</td>\n",
       "      <td>10</td>\n",
       "      <td>20</td>\n",
       "    </tr>\n",
       "    <tr>\n",
       "      <td>14</td>\n",
       "      <td>Agent Brand</td>\n",
       "      <td>1011297</td>\n",
       "      <td>0</td>\n",
       "      <td>7</td>\n",
       "      <td>20</td>\n",
       "    </tr>\n",
       "    <tr>\n",
       "      <td>15</td>\n",
       "      <td>Agent X (Nijo)</td>\n",
       "      <td>1011031</td>\n",
       "      <td>0</td>\n",
       "      <td>3</td>\n",
       "      <td>18</td>\n",
       "    </tr>\n",
       "    <tr>\n",
       "      <td>16</td>\n",
       "      <td>Agent Zero</td>\n",
       "      <td>1009150</td>\n",
       "      <td>0</td>\n",
       "      <td>10</td>\n",
       "      <td>20</td>\n",
       "    </tr>\n",
       "    <tr>\n",
       "      <td>17</td>\n",
       "      <td>Agents of Atlas</td>\n",
       "      <td>1011198</td>\n",
       "      <td>1</td>\n",
       "      <td>13</td>\n",
       "      <td>20</td>\n",
       "    </tr>\n",
       "    <tr>\n",
       "      <td>18</td>\n",
       "      <td>Aginar</td>\n",
       "      <td>1011175</td>\n",
       "      <td>0</td>\n",
       "      <td>0</td>\n",
       "      <td>0</td>\n",
       "    </tr>\n",
       "    <tr>\n",
       "      <td>19</td>\n",
       "      <td>Air-Walker (Gabriel Lan)</td>\n",
       "      <td>1011136</td>\n",
       "      <td>1</td>\n",
       "      <td>3</td>\n",
       "      <td>4</td>\n",
       "    </tr>\n",
       "    <tr>\n",
       "      <td>20</td>\n",
       "      <td>Ajak</td>\n",
       "      <td>1011176</td>\n",
       "      <td>1</td>\n",
       "      <td>1</td>\n",
       "      <td>4</td>\n",
       "    </tr>\n",
       "    <tr>\n",
       "      <td>21</td>\n",
       "      <td>Ajaxis</td>\n",
       "      <td>1010870</td>\n",
       "      <td>0</td>\n",
       "      <td>0</td>\n",
       "      <td>0</td>\n",
       "    </tr>\n",
       "    <tr>\n",
       "      <td>22</td>\n",
       "      <td>Akemi</td>\n",
       "      <td>1011194</td>\n",
       "      <td>0</td>\n",
       "      <td>0</td>\n",
       "      <td>0</td>\n",
       "    </tr>\n",
       "    <tr>\n",
       "      <td>23</td>\n",
       "      <td>Alain</td>\n",
       "      <td>1011170</td>\n",
       "      <td>0</td>\n",
       "      <td>0</td>\n",
       "      <td>0</td>\n",
       "    </tr>\n",
       "    <tr>\n",
       "      <td>24</td>\n",
       "      <td>Albert Cleary</td>\n",
       "      <td>1009240</td>\n",
       "      <td>0</td>\n",
       "      <td>0</td>\n",
       "      <td>0</td>\n",
       "    </tr>\n",
       "    <tr>\n",
       "      <td>25</td>\n",
       "      <td>Albion</td>\n",
       "      <td>1011120</td>\n",
       "      <td>0</td>\n",
       "      <td>1</td>\n",
       "      <td>1</td>\n",
       "    </tr>\n",
       "    <tr>\n",
       "      <td>26</td>\n",
       "      <td>Alex Power</td>\n",
       "      <td>1010836</td>\n",
       "      <td>0</td>\n",
       "      <td>6</td>\n",
       "      <td>18</td>\n",
       "    </tr>\n",
       "    <tr>\n",
       "      <td>27</td>\n",
       "      <td>Alex Wilder</td>\n",
       "      <td>1010755</td>\n",
       "      <td>0</td>\n",
       "      <td>4</td>\n",
       "      <td>9</td>\n",
       "    </tr>\n",
       "    <tr>\n",
       "      <td>28</td>\n",
       "      <td>Alexa Mendez</td>\n",
       "      <td>1011214</td>\n",
       "      <td>0</td>\n",
       "      <td>0</td>\n",
       "      <td>0</td>\n",
       "    </tr>\n",
       "    <tr>\n",
       "      <td>29</td>\n",
       "      <td>Alexander Pierce</td>\n",
       "      <td>1009497</td>\n",
       "      <td>0</td>\n",
       "      <td>1</td>\n",
       "      <td>1</td>\n",
       "    </tr>\n",
       "  </tbody>\n",
       "</table>\n",
       "</div>"
      ],
      "text/plain": [
       "                Character Name Character ID  Total Available Events  \\\n",
       "0                      3-D Man      1011334                       1   \n",
       "1                 A-Bomb (HAS)      1017100                       0   \n",
       "2                       A.I.M.      1009144                       0   \n",
       "3                  Aaron Stack      1010699                       0   \n",
       "4   Abomination (Emil Blonsky)      1009146                       1   \n",
       "5       Abomination (Ultimate)      1016823                       0   \n",
       "6                Absorbing Man      1009148                       4   \n",
       "7                        Abyss      1009149                       1   \n",
       "8    Abyss (Age of Apocalypse)      1010903                       1   \n",
       "9                 Adam Destine      1011266                       0   \n",
       "10                Adam Warlock      1010354                       8   \n",
       "11        Aegis (Trey Rollins)      1010846                       0   \n",
       "12                 Aero (Aero)      1017851                       0   \n",
       "13             Agatha Harkness      1012717                       0   \n",
       "14                 Agent Brand      1011297                       0   \n",
       "15              Agent X (Nijo)      1011031                       0   \n",
       "16                  Agent Zero      1009150                       0   \n",
       "17             Agents of Atlas      1011198                       1   \n",
       "18                      Aginar      1011175                       0   \n",
       "19    Air-Walker (Gabriel Lan)      1011136                       1   \n",
       "20                        Ajak      1011176                       1   \n",
       "21                      Ajaxis      1010870                       0   \n",
       "22                       Akemi      1011194                       0   \n",
       "23                       Alain      1011170                       0   \n",
       "24               Albert Cleary      1009240                       0   \n",
       "25                      Albion      1011120                       0   \n",
       "26                  Alex Power      1010836                       0   \n",
       "27                 Alex Wilder      1010755                       0   \n",
       "28                Alexa Mendez      1011214                       0   \n",
       "29            Alexander Pierce      1009497                       0   \n",
       "\n",
       "    Total Available Series  Total Available Comics  \n",
       "0                        3                      12  \n",
       "1                        2                       4  \n",
       "2                       20                      20  \n",
       "3                        3                      14  \n",
       "4                       20                      20  \n",
       "5                        2                       2  \n",
       "6                       20                      20  \n",
       "7                        3                       8  \n",
       "8                        3                       3  \n",
       "9                        0                       0  \n",
       "10                      20                      20  \n",
       "11                       0                       0  \n",
       "12                       5                      20  \n",
       "13                      10                      20  \n",
       "14                       7                      20  \n",
       "15                       3                      18  \n",
       "16                      10                      20  \n",
       "17                      13                      20  \n",
       "18                       0                       0  \n",
       "19                       3                       4  \n",
       "20                       1                       4  \n",
       "21                       0                       0  \n",
       "22                       0                       0  \n",
       "23                       0                       0  \n",
       "24                       0                       0  \n",
       "25                       1                       1  \n",
       "26                       6                      18  \n",
       "27                       4                       9  \n",
       "28                       0                       0  \n",
       "29                       1                       1  "
      ]
     },
     "execution_count": 73,
     "metadata": {},
     "output_type": "execute_result"
    }
   ],
   "source": [
    "df"
   ]
  }
 ],
 "metadata": {
  "kernelspec": {
   "display_name": "Python 3",
   "language": "python",
   "name": "python3"
  },
  "language_info": {
   "codemirror_mode": {
    "name": "ipython",
    "version": 3
   },
   "file_extension": ".py",
   "mimetype": "text/x-python",
   "name": "python",
   "nbconvert_exporter": "python",
   "pygments_lexer": "ipython3",
   "version": "3.7.4"
  }
 },
 "nbformat": 4,
 "nbformat_minor": 2
}
